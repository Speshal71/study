{
 "cells": [
  {
   "cell_type": "markdown",
   "metadata": {},
   "source": [
    "Определим некоторые константы:"
   ]
  },
  {
   "cell_type": "code",
   "execution_count": 2,
   "metadata": {},
   "outputs": [],
   "source": [
    "imsize = 71 #размер изображения\n",
    "\n",
    "path = 'D:/myprog/practice2019/test/dataset' #путь к датасету\n",
    "\n",
    "#названия ратений, а по совместительству и названия папок\n",
    "#в данном случае можно использовать список\n",
    "labels = {'Charlock': 0,\n",
    "          'Common Chickweed': 1,\n",
    "          'Common wheat': 2,\n",
    "          'Maize': 3,\n",
    "          'Scentless Mayweed': 4,\n",
    "          'Small-flowered Cranesbill': 5,\n",
    "          'Sugar beet': 6}\n",
    "\n",
    "num_classes = len(labels) #количество видов растений"
   ]
  },
  {
   "cell_type": "markdown",
   "metadata": {},
   "source": [
    "Напишем функцию для загрузки датасета:"
   ]
  },
  {
   "cell_type": "code",
   "execution_count": 3,
   "metadata": {},
   "outputs": [],
   "source": [
    "import os\n",
    "import cv2\n",
    "import numpy as np\n",
    "\n",
    "def load_data(path, folders):\n",
    "    setsize = sum(len(os.listdir('{}/{}'.format(path, folder))) for folder in folders)\n",
    "    images = np.zeros((setsize, imsize, imsize, 3), dtype=np.uint8)\n",
    "    labels = np.zeros(setsize, dtype=np.int8)\n",
    "    \n",
    "    i = 0\n",
    "    for folder in folders:\n",
    "        for image_name in os.listdir('{}/{}'.format(path, folder)):\n",
    "            image = cv2.imread('{}/{}/{}'.format(path, folder, image_name))\n",
    "            images[i] = cv2.resize(image, (imsize, imsize))\n",
    "            labels[i] = folders[folder]\n",
    "            i += 1\n",
    "    \n",
    "    return images, labels"
   ]
  },
  {
   "cell_type": "markdown",
   "metadata": {},
   "source": [
    "Загрузим датасет:"
   ]
  },
  {
   "cell_type": "code",
   "execution_count": 4,
   "metadata": {},
   "outputs": [],
   "source": [
    "images, labels = load_data(path, labels)"
   ]
  },
  {
   "cell_type": "markdown",
   "metadata": {},
   "source": [
    "Посмотрим, что получислось:"
   ]
  },
  {
   "cell_type": "code",
   "execution_count": 6,
   "metadata": {},
   "outputs": [
    {
     "data": {
      "image/png": "[encoded data removed]",
      "text/plain": [
       "<Figure size 432x288 with 1 Axes>"
      ]
     },
     "metadata": {
      "needs_background": "light"
     },
     "output_type": "display_data"
    }
   ],
   "source": [
    "import matplotlib.pyplot as plt\n",
    "\n",
    "plt.imshow(images[0])\n",
    "plt.show()"
   ]
  },
  {
   "cell_type": "markdown",
   "metadata": {},
   "source": [
    "Перемешаем выборку и преобразуем лейблы к one-hot encoding:"
   ]
  },
  {
   "cell_type": "code",
   "execution_count": 8,
   "metadata": {},
   "outputs": [
    {
     "name": "stderr",
     "output_type": "stream",
     "text": [
      "Using TensorFlow backend.\n"
     ]
    }
   ],
   "source": [
    "from sklearn.model_selection import train_test_split\n",
    "from keras.utils import np_utils\n",
    "\n",
    "X_train, X_test, y_train, y_test = train_test_split(images, labels, random_state=123)\n",
    "Y_train = np_utils.to_categorical(y_train, num_classes)\n",
    "Y_test  = np_utils.to_categorical(y_test, num_classes)"
   ]
  },
  {
   "cell_type": "code",
   "execution_count": 10,
   "metadata": {},
   "outputs": [],
   "source": [
    "import keras\n",
    "from keras.models import Sequential\n",
    "from keras.layers import Conv2D, Dense, Dropout, Flatten, MaxPooling2D\n",
    "\n",
    "model = Sequential()\n",
    "\n",
    "model.add(Conv2D(10, kernel_size=(3, 3), activation='relu', input_shape=(imsize, imsize, 3)))\n",
    "model.add(Conv2D(20, kernel_size=(3, 3), activation='relu'))\n",
    "model.add(MaxPooling2D(pool_size=(2,2)))\n",
    "model.add(Dropout(0.5))\n",
    "\n",
    "model.add(Conv2D(10, kernel_size=(3, 3), activation='relu'))\n",
    "model.add(Conv2D(20, kernel_size=(3, 3), activation='relu'))\n",
    "model.add(MaxPooling2D(pool_size=(2,2)))\n",
    "model.add(Dropout(0.5))\n",
    "\n",
    "# model.add(Conv2D(10, kernel_size=(3, 3), activation='relu'))\n",
    "# model.add(Conv2D(20, kernel_size=(3, 3), activation='relu'))\n",
    "# model.add(MaxPooling2D(pool_size=(2,2)))\n",
    "# model.add(Dropout(0.25))\n",
    "\n",
    "model.add(Flatten())\n",
    "model.add(Dense(128, activation='relu'))\n",
    "model.add(Dropout(0.5))\n",
    "model.add(Dense(num_classes, activation='softmax'))\n",
    "\n",
    "model.compile(loss=keras.losses.categorical_crossentropy,\n",
    "              optimizer=keras.optimizers.Adadelta(),\n",
    "              metrics=['accuracy'])"
   ]
  },
  {
   "cell_type": "code",
   "execution_count": 56,
   "metadata": {},
   "outputs": [
    {
     "name": "stdout",
     "output_type": "stream",
     "text": [
      "Train on 2490 samples, validate on 831 samples\n",
      "Epoch 1/20\n",
      "2490/2490 [==============================] - 27s 11ms/step - loss: 12.6896 - acc: 0.2016 - val_loss: 12.6462 - val_acc: 0.2154\n",
      "Epoch 2/20\n",
      "2490/2490 [==============================] - 25s 10ms/step - loss: 12.6576 - acc: 0.2068 - val_loss: 12.3158 - val_acc: 0.2154\n",
      "Epoch 3/20\n",
      "2490/2490 [==============================] - 25s 10ms/step - loss: 2.0041 - acc: 0.3104 - val_loss: 1.3904 - val_acc: 0.4681\n",
      "Epoch 4/20\n",
      "2490/2490 [==============================] - 25s 10ms/step - loss: 1.3289 - acc: 0.4920 - val_loss: 1.2161 - val_acc: 0.6005\n",
      "Epoch 5/20\n",
      "2490/2490 [==============================] - 26s 10ms/step - loss: 1.1638 - acc: 0.5618 - val_loss: 1.0164 - val_acc: 0.6462\n",
      "Epoch 6/20\n",
      "2490/2490 [==============================] - 25s 10ms/step - loss: 1.0609 - acc: 0.6165 - val_loss: 1.0563 - val_acc: 0.6546\n",
      "Epoch 7/20\n",
      "2490/2490 [==============================] - 26s 10ms/step - loss: 0.9633 - acc: 0.6494 - val_loss: 0.8013 - val_acc: 0.7292\n",
      "Epoch 8/20\n",
      "2490/2490 [==============================] - 27s 11ms/step - loss: 0.8914 - acc: 0.6884 - val_loss: 0.7673 - val_acc: 0.7533\n",
      "Epoch 9/20\n",
      "2490/2490 [==============================] - 29s 11ms/step - loss: 0.8382 - acc: 0.6996 - val_loss: 0.7527 - val_acc: 0.7557\n",
      "Epoch 10/20\n",
      "2490/2490 [==============================] - 28s 11ms/step - loss: 0.7694 - acc: 0.7337 - val_loss: 0.7853 - val_acc: 0.7557\n",
      "Epoch 11/20\n",
      "2490/2490 [==============================] - 24s 10ms/step - loss: 0.7143 - acc: 0.7622 - val_loss: 0.7079 - val_acc: 0.7714\n",
      "Epoch 12/20\n",
      "2490/2490 [==============================] - 24s 10ms/step - loss: 0.6567 - acc: 0.7723 - val_loss: 1.0270 - val_acc: 0.6703\n",
      "Epoch 13/20\n",
      "2490/2490 [==============================] - 24s 10ms/step - loss: 0.6237 - acc: 0.7944 - val_loss: 0.6891 - val_acc: 0.7810\n",
      "Epoch 14/20\n",
      "2490/2490 [==============================] - 24s 9ms/step - loss: 0.5515 - acc: 0.8129 - val_loss: 0.5366 - val_acc: 0.8255\n",
      "Epoch 15/20\n",
      "2490/2490 [==============================] - 24s 10ms/step - loss: 0.5260 - acc: 0.8237 - val_loss: 0.5637 - val_acc: 0.8243\n",
      "Epoch 16/20\n",
      "2490/2490 [==============================] - 24s 9ms/step - loss: 0.4874 - acc: 0.8478 - val_loss: 0.5629 - val_acc: 0.8195\n",
      "Epoch 17/20\n",
      "2490/2490 [==============================] - 24s 10ms/step - loss: 0.4787 - acc: 0.8402 - val_loss: 0.5040 - val_acc: 0.8460\n",
      "Epoch 18/20\n",
      "2490/2490 [==============================] - 24s 9ms/step - loss: 0.4781 - acc: 0.8570 - val_loss: 0.4860 - val_acc: 0.8424\n",
      "Epoch 19/20\n",
      "2490/2490 [==============================] - 24s 10ms/step - loss: 0.4245 - acc: 0.8663 - val_loss: 0.6096 - val_acc: 0.8087\n",
      "Epoch 20/20\n",
      "2490/2490 [==============================] - 24s 10ms/step - loss: 0.4174 - acc: 0.8691 - val_loss: 0.4319 - val_acc: 0.8700\n"
     ]
    }
   ],
   "source": [
    "batch_size = 8\n",
    "epochs = 20\n",
    "h = model.fit(X_train, Y_train,\n",
    "              batch_size=batch_size,\n",
    "              epochs=epochs,\n",
    "              verbose=1,\n",
    "              validation_data=(X_test, Y_test))"
   ]
  },
  {
   "cell_type": "code",
   "execution_count": 64,
   "metadata": {},
   "outputs": [
    {
     "data": {
      "text/plain": [
       "Text(0, 0.5, 'Validation Accuracy')"
      ]
     },
     "execution_count": 64,
     "metadata": {},
     "output_type": "execute_result"
    },
    {
     "data": {
      "image/png": "[encoded data removed]",
      "text/plain": [
       "<Figure size 360x360 with 1 Axes>"
      ]
     },
     "metadata": {
      "needs_background": "light"
     },
     "output_type": "display_data"
    },
    {
     "data": {
      "image/png": "[encoded data removed]",
      "text/plain": [
       "<Figure size 360x360 with 1 Axes>"
      ]
     },
     "metadata": {
      "needs_background": "light"
     },
     "output_type": "display_data"
    }
   ],
   "source": [
    "plt.figure(figsize=(5, 5))\n",
    "plt.plot(range(1, epochs + 1), h.history['val_loss'], label='Test')\n",
    "plt.plot(range(1, epochs + 1), h.history['loss'], label='Train')\n",
    "plt.title('Loss', fontsize=20)\n",
    "plt.xlabel('Epochs', fontsize=16)\n",
    "plt.ylabel('Loss', fontsize=16)\n",
    "plt.legend()\n",
    "plt.figure(figsize=(5, 5))\n",
    "plt.plot(range(1, epochs + 1), h.history['val_acc'])\n",
    "plt.title('Validation Accuracy', fontsize=20)\n",
    "plt.xlabel('Epochs', fontsize=16)\n",
    "plt.ylabel('Validation Accuracy', fontsize=16)"
   ]
  },
  {
   "cell_type": "markdown",
   "metadata": {},
   "source": [
    "Точность не всегда является объективны показателем, посомотрим на матрицу ошибок:"
   ]
  },
  {
   "cell_type": "code",
   "execution_count": 65,
   "metadata": {},
   "outputs": [
    {
     "name": "stdout",
     "output_type": "stream",
     "text": [
      "              precision    recall  f1-score   support\n",
      "\n",
      "           0       0.89      0.91      0.90       103\n",
      "           1       0.96      0.87      0.91       179\n",
      "           2       0.87      0.94      0.91        72\n",
      "           3       0.77      0.75      0.76        63\n",
      "           4       0.78      0.87      0.82       157\n",
      "           5       0.89      0.92      0.90       150\n",
      "           6       0.90      0.78      0.83       107\n",
      "\n",
      "   micro avg       0.87      0.87      0.87       831\n",
      "   macro avg       0.87      0.86      0.86       831\n",
      "weighted avg       0.87      0.87      0.87       831\n",
      "\n"
     ]
    }
   ],
   "source": [
    "from sklearn.metrics import classification_report\n",
    "\n",
    "labels_pred = [np.argmax(pred) for pred in model.predict(X_test)]\n",
    "labels_fact = [np.argmax(fact) for fact in Y_test]\n",
    "\n",
    "print(classification_report(labels_fact, labels_pred))"
   ]
  },
  {
   "cell_type": "markdown",
   "metadata": {},
   "source": [
    "Минимальный $precision$ - 0.77, а минимальный $recall$ - 0.75, неплохой результат. Сохраним эту модель на диск:"
   ]
  },
  {
   "cell_type": "code",
   "execution_count": 66,
   "metadata": {},
   "outputs": [
    {
     "name": "stdout",
     "output_type": "stream",
     "text": [
      "Saved model to disk\n"
     ]
    }
   ],
   "source": [
    "import h5py\n",
    "\n",
    "model_json = model.to_json()\n",
    "with open(path + '/' + \"model.json\", \"w\") as json_file:\n",
    "    json_file.write(model_json)\n",
    "model.save_weights(path + '/' + \"model.h5\")\n",
    "print(\"Saved model to disk\")"
   ]
  }
 ],
 "metadata": {
  "kernelspec": {
   "display_name": "Python 3",
   "language": "python",
   "name": "python3"
  },
  "language_info": {
   "codemirror_mode": {
    "name": "ipython",
    "version": 3
   },
   "file_extension": ".py",
   "mimetype": "text/x-python",
   "name": "python",
   "nbconvert_exporter": "python",
   "pygments_lexer": "ipython3",
   "version": "3.7.3"
  }
 },
 "nbformat": 4,
 "nbformat_minor": 2
}
